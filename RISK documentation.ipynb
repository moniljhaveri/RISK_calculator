{
 "cells": [
  {
   "cell_type": "markdown",
   "metadata": {},
   "source": [
    "### RISK Calculator \n",
    "This is project aims to create a calculator that will display the odds for winning a specific battle in the game of RISK. \n",
    "\n",
    "#### What is RISK \n",
    "RISK is as board games where you take turns and and try to capture territory. The goal of the game is to take over the world. It is called a \"game of world domination\". \n",
    "\n",
    "#### How do you capture territory \n",
    "The way to capture territory is both the attacker and defender rolling dice. If the attacker has a higher dice roll the defender the defender loses an army. If the defender ties the or beats the attackers highest die the attackers lose an army. The attacker can attack with up to three die and the defender can defender can defend with up to two die. If the attacker has two dice higher than both the defenders two dice then the defender loses two armies. If the defender has two dice higher than the attacker, the attacker loses two armies. If one of the attackers die is higher than one of the defenders die and one of the defenders die is larger than the second highest attackers die than both attacker and defender lose a die. \n",
    "Furthermore, in the game you cannot lose more armies than you roll with, so if an attacker attackes with three armies and the defender defends with one, the defender can lose at most one army. However, this also means that the attacker can lose at most one army. \n",
    "\n",
    "#### How to design a calculator\n",
    "ToDo\n",
    "\n",
    "#### Why RISK \n",
    "I like RISK, its my favorite board game. And because its seems like a problem that seems fairly straight forward to figure out. "
   ]
  },
  {
   "cell_type": "code",
   "execution_count": 20,
   "metadata": {
    "collapsed": true
   },
   "outputs": [],
   "source": [
    "import random\n",
    "import numpy as np\n",
    "import seaborn as sns\n",
    "import matplotlib.pyplot as plt\n",
    "import pandas as pd\n",
    "import math"
   ]
  },
  {
   "cell_type": "code",
   "execution_count": 2,
   "metadata": {
    "collapsed": true
   },
   "outputs": [],
   "source": [
    "def calculate_battle_winner(num_attacker_dice, num_defender_dice): \n",
    "    # This function figures calcutates how any dice roll will win \n",
    "    n = min(num_attacker_dice, num_defender_dice)\n",
    "    num_attack_array = [] \n",
    "    num_defend_array = [] \n",
    "    battle_winner = 0 \n",
    "    for i in range(num_attacker_dice): \n",
    "        num_attack_array.append(random.randint(1,6))\n",
    "    for i in range(num_defender_dice): \n",
    "        num_defend_array.append(random.randint(1,6)) \n",
    "    num_attack_array.sort()\n",
    "    num_attack_array.reverse()\n",
    "    num_defend_array.sort()\n",
    "    num_defend_array.reverse()\n",
    "    for i in range(n):\n",
    "        if num_attack_array[i] <= num_defend_array[i]: \n",
    "            battle_winner -= 1\n",
    "        else: \n",
    "            battle_winner += 1 \n",
    "    return battle_winner\n",
    "\n",
    "def replay_attack(n, num_att,\n",
    " num_def):\n",
    "    att_win = 0 \n",
    "    def_win = 0 \n",
    "    tie = 0 \n",
    "    for i in range(n):\n",
    "        battle_win = calculate_battle_winner(num_att, num_def)\n",
    "        if battle_win == 0: \n",
    "            tie += 1 \n",
    "        elif battle_win < 0: \n",
    "            def_win += 1\n",
    "        else: \n",
    "            att_win += 1 \n",
    "    return {'Attack':att_win, 'Defender':def_win, 'Tie':tie}\n"
   ]
  },
  {
   "cell_type": "code",
   "execution_count": 6,
   "metadata": {
    "collapsed": false
   },
   "outputs": [],
   "source": [
    "n = 1000000\n",
    "# 3 attackers 2 defenders \n",
    "threeTwo = replay_attack(n, 3, 2)\n",
    "\n",
    "# 3 attackers 1 defender\n",
    "threeOne = replay_attack(n, 3, 1)\n",
    "\n",
    "# 2 attackers 2 defenders \n",
    "twoTwo = replay_attack(n, 2, 2) \n",
    "\n",
    "# 2 attackers 1 defender \n",
    "twoOne = replay_attack(n, 2, 1) \n",
    "\n",
    "\n",
    "# 1 attackers 2 defender \n",
    "oneTwo = replay_attack(n, 1, 2) \n",
    "\n",
    "# 1 attacker 1 defender \n",
    "oneOne = replay_attack(n, 1, 1) "
   ]
  },
  {
   "cell_type": "code",
   "execution_count": 8,
   "metadata": {
    "collapsed": false
   },
   "outputs": [
    {
     "data": {
      "text/plain": [
       "<matplotlib.axes._subplots.AxesSubplot at 0x7f81bb63af98>"
      ]
     },
     "execution_count": 8,
     "metadata": {},
     "output_type": "execute_result"
    }
   ],
   "source": [
    "df = pd.DataFrame([threeTwo, threeOne, twoTwo, twoOne, oneTwo, oneOne], columns=threeTwo.keys())\n",
    "df = df.transpose()\n",
    "df.columns = ['Three Two', 'Three One', 'Two Two', 'Two One', 'One Two', 'One One']\n",
    "df\n",
    "fig = plt.figure()\n",
    "ax1 = fig.add_subplot(611)\n",
    "ax2 = fig.add_subplot(612)\n",
    "ax3 = fig.add_subplot(613)\n",
    "ax4 = fig.add_subplot(614)\n",
    "ax5 = fig.add_subplot(615)\n",
    "ax6 = fig.add_subplot(616)\n",
    "\n",
    "\n",
    "sns.barplot(x=['Attack', 'Defender', 'Tie'], y=df['Three Two'], ax=ax1)\n",
    "sns.barplot(x=['Attack', 'Defender', 'Tie'], y=df['Three One'], ax=ax2)\n",
    "sns.barplot(x=['Attack', 'Defender', 'Tie'], y=df['Two Two'], ax=ax3)\n",
    "sns.barplot(x=['Attack', 'Defender', 'Tie'], y=df['Two One'], ax=ax4)\n",
    "sns.barplot(x=['Attack', 'Defender', 'Tie'], y=df['One Two'], ax=ax5)\n",
    "sns.barplot(x=['Attack', 'Defender', 'Tie'], y=df['One One'], ax=ax6)\n"
   ]
  },
  {
   "cell_type": "code",
   "execution_count": 10,
   "metadata": {
    "collapsed": false
   },
   "outputs": [
    {
     "data": {
      "text/html": [
       "<div>\n",
       "<table border=\"1\" class=\"dataframe\">\n",
       "  <thead>\n",
       "    <tr style=\"text-align: right;\">\n",
       "      <th></th>\n",
       "      <th>Three Two</th>\n",
       "      <th>Three One</th>\n",
       "      <th>Two Two</th>\n",
       "      <th>Two One</th>\n",
       "      <th>One Two</th>\n",
       "      <th>One One</th>\n",
       "    </tr>\n",
       "  </thead>\n",
       "  <tbody>\n",
       "    <tr>\n",
       "      <th>Attack</th>\n",
       "      <td>0.371033</td>\n",
       "      <td>0.660383</td>\n",
       "      <td>0.227392</td>\n",
       "      <td>0.578588</td>\n",
       "      <td>0.25528</td>\n",
       "      <td>0.417082</td>\n",
       "    </tr>\n",
       "    <tr>\n",
       "      <th>Defender</th>\n",
       "      <td>0.292947</td>\n",
       "      <td>0.339617</td>\n",
       "      <td>0.448205</td>\n",
       "      <td>0.421412</td>\n",
       "      <td>0.74472</td>\n",
       "      <td>0.582918</td>\n",
       "    </tr>\n",
       "    <tr>\n",
       "      <th>Tie</th>\n",
       "      <td>0.336020</td>\n",
       "      <td>0.000000</td>\n",
       "      <td>0.324403</td>\n",
       "      <td>0.000000</td>\n",
       "      <td>0.00000</td>\n",
       "      <td>0.000000</td>\n",
       "    </tr>\n",
       "  </tbody>\n",
       "</table>\n",
       "</div>"
      ],
      "text/plain": [
       "          Three Two  Three One   Two Two   Two One  One Two   One One\n",
       "Attack     0.371033   0.660383  0.227392  0.578588  0.25528  0.417082\n",
       "Defender   0.292947   0.339617  0.448205  0.421412  0.74472  0.582918\n",
       "Tie        0.336020   0.000000  0.324403  0.000000  0.00000  0.000000"
      ]
     },
     "execution_count": 10,
     "metadata": {},
     "output_type": "execute_result"
    }
   ],
   "source": [
    "df['Three Two'] = df['Three Two']/n\n",
    "df['Three One'] = df['Three One']/n\n",
    "df['Two Two'] = df['Two Two']/n\n",
    "df['Two One'] = df['Two One']/n\n",
    "df['One Two'] = df['One Two']/n\n",
    "df['One One'] = df['One One']/n\n",
    "df"
   ]
  },
  {
   "cell_type": "code",
   "execution_count": 69,
   "metadata": {
    "collapsed": false
   },
   "outputs": [
    {
     "name": "stdout",
     "output_type": "stream",
     "text": [
      "hello world\n"
     ]
    }
   ],
   "source": []
  },
  {
   "cell_type": "code",
   "execution_count": 65,
   "metadata": {
    "collapsed": false
   },
   "outputs": [],
   "source": [
    "prob_dict = df.to_dict()\n",
    "def roll_expected_value(numAttackers, numDefenders, prob_dict): \n",
    "    att_dict = { 3:'Three', 2:'Two', 1:'One'}\n",
    "    def_dict = {2:'Two', 1:'One'}\n",
    "    prob = att_dict[numAttackers] + \" \" + def_dict[numDefenders]\n",
    "    return prob_dict[prob]\n",
    "    \n",
    "def calculate_win_expect_probablility(numAttackers, numDefenders, prob_dict): \n",
    "\n",
    "    tie_def = 0 \n",
    "    while((numAttackers > 0) and (numDefenders > 0)):\n",
    "        att = math.floor(numAttackers) \n",
    "        deff =  math.floor(numDefenders)\n",
    "        if (numAttackers < 3):\n",
    "            att = att%3 + 1\n",
    "        else: \n",
    "            att = 3 \n",
    "        if (numDefenders < 2):\n",
    "            deff = deff%2 + 1\n",
    "        else: \n",
    "            deff = 2\n",
    "        prob = roll_expected_value(att, deff, prob_dict)\n",
    "        numAttackers -= prob['Attack']\n",
    "        numDefenders -= prob['Defender']\n",
    "        numAttackers -= prob['Tie']\n",
    "        numDefenders -= prob['Tie']\n",
    "\n",
    "    if numAttackers < 0: \n",
    "        numAttackers = 0\n",
    "    if numDefenders < 0: \n",
    "        numDefenders = 0\n",
    "    return numAttackers, numDefenders"
   ]
  },
  {
   "cell_type": "code",
   "execution_count": 68,
   "metadata": {
    "collapsed": false
   },
   "outputs": [
    {
     "data": {
      "text/plain": [
       "(0, 88.700907999999956)"
      ]
     },
     "execution_count": 68,
     "metadata": {},
     "output_type": "execute_result"
    }
   ],
   "source": [
    "calculate_win_expect_probablility(10, 100, prob_dict)"
   ]
  },
  {
   "cell_type": "code",
   "execution_count": null,
   "metadata": {
    "collapsed": true
   },
   "outputs": [],
   "source": []
  },
  {
   "cell_type": "code",
   "execution_count": null,
   "metadata": {
    "collapsed": true
   },
   "outputs": [],
   "source": []
  }
 ],
 "metadata": {
  "kernelspec": {
   "display_name": "Python 3",
   "language": "python",
   "name": "python3"
  },
  "language_info": {
   "codemirror_mode": {
    "name": "ipython",
    "version": 3
   },
   "file_extension": ".py",
   "mimetype": "text/x-python",
   "name": "python",
   "nbconvert_exporter": "python",
   "pygments_lexer": "ipython3",
   "version": "3.6.0"
  }
 },
 "nbformat": 4,
 "nbformat_minor": 2
}
