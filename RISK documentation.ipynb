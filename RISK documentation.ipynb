{
 "cells": [
  {
   "cell_type": "markdown",
   "metadata": {},
   "source": [
    "### RISK Calculator \n",
    "This is project aims to create a calculator that will display the odds for winning a specific battle in the game of RISK. \n",
    "\n",
    "#### What is RISK \n",
    "RISK is as board games where you take turns and and try to capture territory. The goal of the game is to take over the world. It is called a \"game of world domination\". \n",
    "\n",
    "#### How do you capture territory \n",
    "The way to capture territory is both the attacker and defender rolling dice. If the attacker has a higher dice roll the defender the defender loses an army. If the defender ties the or beats the attackers highest die the attackers lose an army. The attacker can attack with up to three die and the defender can defender can defend with up to two die. If the attacker has two dice higher than both the defenders two dice then the defender loses two armies. If the defender has two dice higher than the attacker, the attacker loses two armies. If one of the attackers die is higher than one of the defenders die and one of the defenders die is larger than the second highest attackers die than both attacker and defender lose a die. \n",
    "Furthermore, in the game you cannot lose more armies than you roll with, so if an attacker attackes with three armies and the defender defends with one, the defender can lose at most one army. However, this also means that the attacker can lose at most one army. \n",
    "\n",
    "#### How to design a calculator\n",
    "ToDo\n",
    "\n",
    "#### Why RISK \n",
    "I like RISK, its my favorite board game. And because its seems like a problem that seems fairly straight forward to figure out. "
   ]
  },
  {
   "cell_type": "markdown",
   "metadata": {
    "collapsed": true
   },
   "source": []
  }
 ],
 "metadata": {
  "kernelspec": {
   "display_name": "Python 3",
   "language": "python",
   "name": "python3"
  },
  "language_info": {
   "codemirror_mode": {
    "name": "ipython",
    "version": 3
   },
   "file_extension": ".py",
   "mimetype": "text/x-python",
   "name": "python",
   "nbconvert_exporter": "python",
   "pygments_lexer": "ipython3",
   "version": "3.6.3"
  }
 },
 "nbformat": 4,
 "nbformat_minor": 2
}
