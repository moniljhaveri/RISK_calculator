{
 "cells": [
  {
   "cell_type": "markdown",
   "metadata": {},
   "source": [
    "### RISK Calculator \n",
    "This is project aims to create a calculator that will display the odds for winning a specific battle in the game of RISK. \n",
    "\n",
    "#### What is RISK \n",
    "RISK is as board games where you take turns and and try to capture territory. The goal of the game is to take over the world. It is called a \"game of world domination\". \n",
    "\n",
    "#### How do you capture territory \n",
    "The way to capture territory is both the attacker and defender rolling dice. If the attacker has a higher dice roll the defender the defender loses an army. If the defender ties the or beats the attackers highest die the attackers lose an army. The attacker can attack with up to three die and the defender can defender can defend with up to two die. If the attacker has two dice higher than both the defenders two dice then the defender loses two armies. If the defender has two dice higher than the attacker, the attacker loses two armies. If one of the attackers die is higher than one of the defenders die and one of the defenders die is larger than the second highest attackers die than both attacker and defender lose a die. \n",
    "Furthermore, in the game you cannot lose more armies than you roll with, so if an attacker attackes with three armies and the defender defends with one, the defender can lose at most one army. However, this also means that the attacker can lose at most one army. \n",
    "\n",
    "#### How to design a calculator\n",
    "The calculator is designed below, first I generated the probablities for each different combination of the dice roll. That gave me the expected value of the dice rolls. I then wrote a simple function that sums the expected values of each dice roll. I then wrote a function that simulates the battle mechanics of risk and ran a bunch of simulations. \n",
    "\n",
    "#### Why RISK \n",
    "I like RISK, its my favorite board game. And because its seems like a problem that seems fairly straight forward to figure out. "
   ]
  },
  {
   "cell_type": "code",
   "execution_count": 1,
   "metadata": {
    "collapsed": true
   },
   "outputs": [],
   "source": [
    "import random\n",
    "import numpy as np\n",
    "import seaborn as sns\n",
    "import matplotlib.pyplot as plt\n",
    "import pandas as pd\n",
    "import math"
   ]
  },
  {
   "cell_type": "code",
   "execution_count": 2,
   "metadata": {
    "collapsed": true
   },
   "outputs": [],
   "source": [
    "def calculate_battle_winner(num_attacker_dice, num_defender_dice): \n",
    "    # This function figures calcutates how any dice roll will win \n",
    "    n = min(num_attacker_dice, num_defender_dice)\n",
    "    num_attack_array = [] \n",
    "    num_defend_array = [] \n",
    "    battle_winner = 0 \n",
    "    for i in range(num_attacker_dice): \n",
    "        num_attack_array.append(random.randint(1,6))\n",
    "    for i in range(num_defender_dice): \n",
    "        num_defend_array.append(random.randint(1,6)) \n",
    "    num_attack_array.sort()\n",
    "    num_attack_array.reverse()\n",
    "    num_defend_array.sort()\n",
    "    num_defend_array.reverse()\n",
    "    for i in range(n):\n",
    "        if num_attack_array[i] <= num_defend_array[i]: \n",
    "            battle_winner -= 1\n",
    "        else: \n",
    "            battle_winner += 1 \n",
    "    return battle_winner\n",
    "\n",
    "def replay_attack(n, num_att,\n",
    " num_def):\n",
    "    att_win = 0 \n",
    "    def_win = 0 \n",
    "    tie = 0 \n",
    "    for i in range(n):\n",
    "        battle_win = calculate_battle_winner(num_att, num_def)\n",
    "        if battle_win == 0: \n",
    "            tie += 1 \n",
    "        elif battle_win < 0: \n",
    "            def_win += 1\n",
    "        else: \n",
    "            att_win += 1 \n",
    "    return {'Attack':att_win, 'Defender':def_win, 'Tie':tie}\n"
   ]
  },
  {
   "cell_type": "code",
   "execution_count": 3,
   "metadata": {},
   "outputs": [],
   "source": [
    "n = 1000000\n",
    "# 3 attackers 2 defenders \n",
    "threeTwo = replay_attack(n, 3, 2)\n",
    "\n",
    "# 3 attackers 1 defender\n",
    "threeOne = replay_attack(n, 3, 1)\n",
    "\n",
    "# 2 attackers 2 defenders \n",
    "twoTwo = replay_attack(n, 2, 2) \n",
    "\n",
    "# 2 attackers 1 defender \n",
    "twoOne = replay_attack(n, 2, 1) \n",
    "\n",
    "\n",
    "# 1 attackers 2 defender \n",
    "oneTwo = replay_attack(n, 1, 2) \n",
    "\n",
    "# 1 attacker 1 defender \n",
    "oneOne = replay_attack(n, 1, 1) "
   ]
  },
  {
   "cell_type": "code",
   "execution_count": 4,
   "metadata": {},
   "outputs": [
    {
     "data": {
      "text/plain": [
       "<matplotlib.axes._subplots.AxesSubplot at 0x7f83d8ce1128>"
      ]
     },
     "execution_count": 4,
     "metadata": {},
     "output_type": "execute_result"
    }
   ],
   "source": [
    "df = pd.DataFrame([threeTwo, threeOne, twoTwo, twoOne, oneTwo, oneOne], columns=threeTwo.keys())\n",
    "df = df.transpose()\n",
    "df.columns = ['Three Two', 'Three One', 'Two Two', 'Two One', 'One Two', 'One One']\n",
    "df\n",
    "fig = plt.figure()\n",
    "ax1 = fig.add_subplot(611)\n",
    "ax2 = fig.add_subplot(612)\n",
    "ax3 = fig.add_subplot(613)\n",
    "ax4 = fig.add_subplot(614)\n",
    "ax5 = fig.add_subplot(615)\n",
    "ax6 = fig.add_subplot(616)\n",
    "\n",
    "\n",
    "sns.barplot(x=['Attack', 'Defender', 'Tie'], y=df['Three Two'], ax=ax1)\n",
    "sns.barplot(x=['Attack', 'Defender', 'Tie'], y=df['Three One'], ax=ax2)\n",
    "sns.barplot(x=['Attack', 'Defender', 'Tie'], y=df['Two Two'], ax=ax3)\n",
    "sns.barplot(x=['Attack', 'Defender', 'Tie'], y=df['Two One'], ax=ax4)\n",
    "sns.barplot(x=['Attack', 'Defender', 'Tie'], y=df['One Two'], ax=ax5)\n",
    "sns.barplot(x=['Attack', 'Defender', 'Tie'], y=df['One One'], ax=ax6)\n"
   ]
  },
  {
   "cell_type": "code",
   "execution_count": 5,
   "metadata": {},
   "outputs": [
    {
     "data": {
      "text/html": [
       "<div>\n",
       "<style>\n",
       "    .dataframe thead tr:only-child th {\n",
       "        text-align: right;\n",
       "    }\n",
       "\n",
       "    .dataframe thead th {\n",
       "        text-align: left;\n",
       "    }\n",
       "\n",
       "    .dataframe tbody tr th {\n",
       "        vertical-align: top;\n",
       "    }\n",
       "</style>\n",
       "<table border=\"1\" class=\"dataframe\">\n",
       "  <thead>\n",
       "    <tr style=\"text-align: right;\">\n",
       "      <th></th>\n",
       "      <th>Three Two</th>\n",
       "      <th>Three One</th>\n",
       "      <th>Two Two</th>\n",
       "      <th>Two One</th>\n",
       "      <th>One Two</th>\n",
       "      <th>One One</th>\n",
       "    </tr>\n",
       "  </thead>\n",
       "  <tbody>\n",
       "    <tr>\n",
       "      <th>Attack</th>\n",
       "      <td>0.371732</td>\n",
       "      <td>0.659499</td>\n",
       "      <td>0.227453</td>\n",
       "      <td>0.578833</td>\n",
       "      <td>0.254919</td>\n",
       "      <td>0.416478</td>\n",
       "    </tr>\n",
       "    <tr>\n",
       "      <th>Defender</th>\n",
       "      <td>0.293226</td>\n",
       "      <td>0.340501</td>\n",
       "      <td>0.448846</td>\n",
       "      <td>0.421167</td>\n",
       "      <td>0.745081</td>\n",
       "      <td>0.583522</td>\n",
       "    </tr>\n",
       "    <tr>\n",
       "      <th>Tie</th>\n",
       "      <td>0.335042</td>\n",
       "      <td>0.000000</td>\n",
       "      <td>0.323701</td>\n",
       "      <td>0.000000</td>\n",
       "      <td>0.000000</td>\n",
       "      <td>0.000000</td>\n",
       "    </tr>\n",
       "  </tbody>\n",
       "</table>\n",
       "</div>"
      ],
      "text/plain": [
       "          Three Two  Three One   Two Two   Two One   One Two   One One\n",
       "Attack     0.371732   0.659499  0.227453  0.578833  0.254919  0.416478\n",
       "Defender   0.293226   0.340501  0.448846  0.421167  0.745081  0.583522\n",
       "Tie        0.335042   0.000000  0.323701  0.000000  0.000000  0.000000"
      ]
     },
     "execution_count": 5,
     "metadata": {},
     "output_type": "execute_result"
    }
   ],
   "source": [
    "df['Three Two'] = df['Three Two']/n\n",
    "df['Three One'] = df['Three One']/n\n",
    "df['Two Two'] = df['Two Two']/n\n",
    "df['Two One'] = df['Two One']/n\n",
    "df['One Two'] = df['One Two']/n\n",
    "df['One One'] = df['One One']/n\n",
    "df"
   ]
  },
  {
   "cell_type": "code",
   "execution_count": 40,
   "metadata": {},
   "outputs": [],
   "source": [
    "prob_dict = df.to_dict()\n",
    "def roll_expected_value(numAttackers, numDefenders, prob_dict): \n",
    "    att_dict = { 3:'Three', 2:'Two', 1:'One'}\n",
    "    def_dict = {2:'Two', 1:'One'}\n",
    "    prob = att_dict[numAttackers] + \" \" + def_dict[numDefenders]\n",
    "    return prob_dict[prob]\n",
    "    \n",
    "def calculate_win_expect_probablility(numAttackers, numDefenders, prob_dict): \n",
    "\n",
    "    tie_def = 0 \n",
    "    while((numAttackers > 0) and (numDefenders > 0)):\n",
    "        att = math.floor(numAttackers) \n",
    "        deff =  math.floor(numDefenders)\n",
    "        if (numAttackers < 3):\n",
    "            att = att%3 + 1\n",
    "        else: \n",
    "            att = 3 \n",
    "        if (numDefenders < 2):\n",
    "            deff = deff%2 + 1\n",
    "        else: \n",
    "            deff = 2\n",
    "        prob = roll_expected_value(att, deff, prob_dict)\n",
    "        numAttackers -= prob['Attack']\n",
    "        numDefenders -= prob['Defender']\n",
    "        numAttackers -= prob['Tie']\n",
    "        numDefenders -= prob['Tie']\n",
    "\n",
    "    if numAttackers < 0 and numDefenders < 0: \n",
    "        if numAttackers < numDefenders:\n",
    "            numDefenders = 1 \n",
    "        else: \n",
    "            numAttackers = 1 \n",
    "    if numAttackers < 0: \n",
    "        numAttackers = 0\n",
    "    if numDefenders < 0: \n",
    "        numDefenders = 0\n",
    "    return numAttackers, numDefenders"
   ]
  },
  {
   "cell_type": "code",
   "execution_count": 59,
   "metadata": {},
   "outputs": [
    {
     "data": {
      "text/plain": [
       "(0, 908.89041099999315)"
      ]
     },
     "execution_count": 59,
     "metadata": {},
     "output_type": "execute_result"
    }
   ],
   "source": [
    "calculate_win_expect_probablility(100, 1000, prob_dict)"
   ]
  },
  {
   "cell_type": "code",
   "execution_count": 65,
   "metadata": {},
   "outputs": [],
   "source": [
    "def choose_assign_numbers(numAttackers, numDefenders):\n",
    "    att = 0 \n",
    "    deff = 0 \n",
    "    if numAttackers >= 3: \n",
    "        att = 3 \n",
    "    elif numAttackers == 2: \n",
    "        att = 2 \n",
    "    elif numAttackers == 1: \n",
    "        att = 1 \n",
    "    if numDefenders >= 2: \n",
    "        deff = 2\n",
    "    elif numDefenders == 1: \n",
    "        deff = 1 \n",
    "    return att, deff\n",
    "    \n",
    "def risk_simulator(numAttackers, numDefenders): \n",
    "    \n",
    "    att = 0 \n",
    "    deff = 0\n",
    "    \n",
    "    while((numAttackers > 0) and (numDefenders > 0)):\n",
    "        att, deff = choose_assign_numbers(numAttackers, numDefenders)\n",
    "        battle_winner = calculate_battle_winner(att, deff)\n",
    "        if battle_winner == 0:\n",
    "            numAttackers -= 1\n",
    "            numDefenders -= 1\n",
    "        elif battle_winner == -1: \n",
    "            numAttackers -= deff\n",
    "        elif battle_winner == 1: \n",
    "            if att == 3: \n",
    "                att = 2 \n",
    "            numDefenders -= att \n",
    "    if numAttackers < 0: \n",
    "        numAttackers = 0\n",
    "    if numDefenders < 0: \n",
    "        numDefenders = 0 \n",
    "    return [numAttackers, numDefenders]"
   ]
  },
  {
   "cell_type": "code",
   "execution_count": 87,
   "metadata": {},
   "outputs": [],
   "source": [
    "def run_simulations(n, trials): \n",
    "    arr = [[[] for i in range(0, n+2)] for j in range(0, n+2)]\n",
    "    for att in range(1, n+1):\n",
    "        for deff in range(1, n+1): \n",
    "            attack_win = 0 \n",
    "            def_win = 0 \n",
    "            for i in range(trials): \n",
    "                a = risk_simulator(att, deff)\n",
    "                attack_win += a[0]\n",
    "                def_win += a[1]\n",
    "            attack_win = attack_win/trials\n",
    "            def_win = def_win/trials\n",
    "            arr[att][deff] = [attack_win, def_win]\n",
    "    return arr\n",
    "            "
   ]
  },
  {
   "cell_type": "code",
   "execution_count": null,
   "metadata": {},
   "outputs": [],
   "source": [
    "run_simulations(100, 10000)"
   ]
  },
  {
   "cell_type": "code",
   "execution_count": 80,
   "metadata": {},
   "outputs": [
    {
     "data": {
      "text/plain": [
       "[]"
      ]
     },
     "execution_count": 80,
     "metadata": {},
     "output_type": "execute_result"
    }
   ],
   "source": [
    "n = 3\n",
    "arr = [[[] for i in range(1, n+1)] for j in range(1, n+1)]\n",
    "arr[1][1]"
   ]
  },
  {
   "cell_type": "code",
   "execution_count": null,
   "metadata": {
    "collapsed": true
   },
   "outputs": [],
   "source": []
  }
 ],
 "metadata": {
  "kernelspec": {
   "display_name": "Python 3",
   "language": "python",
   "name": "python3"
  },
  "language_info": {
   "codemirror_mode": {
    "name": "ipython",
    "version": 3
   },
   "file_extension": ".py",
   "mimetype": "text/x-python",
   "name": "python",
   "nbconvert_exporter": "python",
   "pygments_lexer": "ipython3",
   "version": "3.6.2"
  }
 },
 "nbformat": 4,
 "nbformat_minor": 2
}
